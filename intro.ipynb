{
  "nbformat": 4,
  "nbformat_minor": 0,
  "metadata": {
    "colab": {
      "name": "intro.ipynb",
      "provenance": [],
      "collapsed_sections": [],
      "toc_visible": true,
      "authorship_tag": "ABX9TyPog5JiP/VBpDYIOXoUh6XO",
      "include_colab_link": true
    },
    "kernelspec": {
      "name": "python3",
      "display_name": "Python 3"
    },
    "language_info": {
      "name": "python"
    }
  },
  "cells": [
    {
      "cell_type": "markdown",
      "metadata": {
        "id": "view-in-github",
        "colab_type": "text"
      },
      "source": [
        "<a href=\"https://colab.research.google.com/github/hemswor/test-colab/blob/main/intro.ipynb\" target=\"_parent\"><img src=\"https://colab.research.google.com/assets/colab-badge.svg\" alt=\"Open In Colab\"/></a>"
      ]
    },
    {
      "cell_type": "markdown",
      "metadata": {
        "id": "7a7qsZJN-Jge"
      },
      "source": [
        "## Sales \n"
      ]
    },
    {
      "cell_type": "markdown",
      "metadata": {
        "id": "8abt6QyV7SQQ"
      },
      "source": [
        "# New Section"
      ]
    },
    {
      "cell_type": "code",
      "metadata": {
        "id": "yl7guD4y7TO5",
        "colab": {
          "base_uri": "https://localhost:8080/"
        },
        "outputId": "4c0fd3d5-ccd7-40ab-82f1-4aee41c2d9c8"
      },
      "source": [
        "revenue = 100000\n",
        "tax = 0.19\n",
        "income = revenue * tax \n",
        "income\n"
      ],
      "execution_count": null,
      "outputs": [
        {
          "output_type": "execute_result",
          "data": {
            "text/plain": [
              "19000.0"
            ]
          },
          "metadata": {},
          "execution_count": 2
        }
      ]
    },
    {
      "cell_type": "markdown",
      "metadata": {
        "id": "NbFaIQDRJnyN"
      },
      "source": [
        ""
      ]
    },
    {
      "cell_type": "markdown",
      "metadata": {
        "id": "QLIbVdbERl5a"
      },
      "source": [
        "# plindrome \n"
      ]
    },
    {
      "cell_type": "code",
      "metadata": {
        "id": "S7GxgDP4Rvel"
      },
      "source": [
        "def palindrome(number):\n",
        "   \n",
        "  word = number[::-1]\n",
        "\n",
        "  if  number == word :\n",
        "    return True \n",
        "  return False   \n",
        "print(palindrome(363))  "
      ],
      "execution_count": null,
      "outputs": []
    },
    {
      "cell_type": "markdown",
      "metadata": {
        "id": "PRmCeER_ONM4"
      },
      "source": [
        "# prime factorization\n"
      ]
    },
    {
      "cell_type": "code",
      "metadata": {
        "id": "5yTJ3KlROaNs",
        "outputId": "5189922c-cf99-40fc-ffb4-6482a9a9cec4",
        "colab": {
          "base_uri": "https://localhost:8080/"
        }
      },
      "source": [
        "def calculate(number):\n",
        "  i= 2\n",
        "    \n",
        "  factor = []\n",
        "  while i *i <= number :\n",
        "    if not number % 2 == 0 :\n",
        "      i += 1 \n",
        "    else :\n",
        "      number = number // i\n",
        "      factor.append(i)\n",
        "  if number > 1  :\n",
        "      factor.append(number)   \n",
        "  return max(factor) \n",
        "\n",
        "print(calculate(48))\n",
        "\n",
        "\n"
      ],
      "execution_count": 6,
      "outputs": [
        {
          "output_type": "stream",
          "name": "stdout",
          "text": [
            "3\n"
          ]
        }
      ]
    },
    {
      "cell_type": "markdown",
      "metadata": {
        "id": "8I6jY6p87knp"
      },
      "source": [
        "# New Solution\n"
      ]
    },
    {
      "cell_type": "code",
      "metadata": {
        "id": "L7pW9pc-BSMm",
        "colab": {
          "base_uri": "https://localhost:8080/",
          "height": 35
        },
        "outputId": "e4040f3b-89c8-4f7c-b763-6f27467367a9"
      },
      "source": [
        "import numpy as np\n",
        "\n",
        "np.__version__\n"
      ],
      "execution_count": null,
      "outputs": [
        {
          "output_type": "execute_result",
          "data": {
            "application/vnd.google.colaboratory.intrinsic+json": {
              "type": "string"
            },
            "text/plain": [
              "'1.19.5'"
            ]
          },
          "metadata": {},
          "execution_count": 3
        }
      ]
    },
    {
      "cell_type": "markdown",
      "metadata": {
        "id": "hW8K9EiSBLj0"
      },
      "source": [
        "# New summary\n"
      ]
    },
    {
      "cell_type": "code",
      "metadata": {
        "id": "cT9p9uFi75iS",
        "outputId": "9f339fc2-17b8-480a-b401-dc85747dbaed",
        "colab": {
          "base_uri": "https://localhost:8080/"
        }
      },
      "source": [
        "def calculate():\n",
        "    numbers = []\n",
        "    for i in range(100):\n",
        "        if i % 5 == 0 or i % 7 == 0:\n",
        "            numbers.append(i)\n",
        "    total = sum(numbers)\n",
        "    return total\n",
        " \n",
        " \n",
        "print(calculate())\n",
        "\n"
      ],
      "execution_count": 1,
      "outputs": [
        {
          "output_type": "stream",
          "name": "stdout",
          "text": [
            "1580\n"
          ]
        }
      ]
    },
    {
      "cell_type": "markdown",
      "metadata": {
        "id": "WNHx7EWz7sut"
      },
      "source": [
        ""
      ]
    },
    {
      "cell_type": "markdown",
      "metadata": {
        "id": "q4yFMXNeF_9q"
      },
      "source": [
        "fibbonachi problem \n"
      ]
    },
    {
      "cell_type": "code",
      "metadata": {
        "id": "3maKRVabGFA2",
        "outputId": "f7305cbf-de3f-401b-be09-9c0f102d4df1",
        "colab": {
          "base_uri": "https://localhost:8080/"
        }
      },
      "source": [
        "def calculate():\n",
        "  total =0 \n",
        "  a=0\n",
        "  b =1\n",
        "  while a < 1000000:\n",
        "    if a % 2 == 0 :\n",
        "      total += a \n",
        "    a,b = b,a+b \n",
        "     \n",
        "     \n",
        "  return total \n",
        "\n",
        "print(calculate())    \n"
      ],
      "execution_count": 3,
      "outputs": [
        {
          "output_type": "stream",
          "name": "stdout",
          "text": [
            "1089154\n"
          ]
        }
      ]
    },
    {
      "cell_type": "code",
      "metadata": {
        "id": "_CmpzvHMG0Q_"
      },
      "source": [
        ""
      ],
      "execution_count": null,
      "outputs": []
    }
  ]
}