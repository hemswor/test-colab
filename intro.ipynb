{
  "nbformat": 4,
  "nbformat_minor": 0,
  "metadata": {
    "colab": {
      "name": "intro.ipynb",
      "provenance": [],
      "collapsed_sections": [],
      "toc_visible": true,
      "authorship_tag": "ABX9TyPGIlp693FFxWlgM0KPZob3",
      "include_colab_link": true
    },
    "kernelspec": {
      "name": "python3",
      "display_name": "Python 3"
    },
    "language_info": {
      "name": "python"
    }
  },
  "cells": [
    {
      "cell_type": "markdown",
      "metadata": {
        "id": "view-in-github",
        "colab_type": "text"
      },
      "source": [
        "<a href=\"https://colab.research.google.com/github/hemswor/test-colab/blob/main/intro.ipynb\" target=\"_parent\"><img src=\"https://colab.research.google.com/assets/colab-badge.svg\" alt=\"Open In Colab\"/></a>"
      ]
    },
    {
      "cell_type": "markdown",
      "metadata": {
        "id": "7a7qsZJN-Jge"
      },
      "source": [
        "## Sales \n"
      ]
    },
    {
      "cell_type": "markdown",
      "metadata": {
        "id": "8abt6QyV7SQQ"
      },
      "source": [
        "# New Section"
      ]
    },
    {
      "cell_type": "code",
      "metadata": {
        "id": "yl7guD4y7TO5",
        "colab": {
          "base_uri": "https://localhost:8080/"
        },
        "outputId": "4c0fd3d5-ccd7-40ab-82f1-4aee41c2d9c8"
      },
      "source": [
        "revenue = 100000\n",
        "tax = 0.19\n",
        "income = revenue * tax \n",
        "income\n"
      ],
      "execution_count": null,
      "outputs": [
        {
          "output_type": "execute_result",
          "data": {
            "text/plain": [
              "19000.0"
            ]
          },
          "metadata": {},
          "execution_count": 2
        }
      ]
    },
    {
      "cell_type": "markdown",
      "metadata": {
        "id": "NbFaIQDRJnyN"
      },
      "source": [
        ""
      ]
    },
    {
      "cell_type": "markdown",
      "metadata": {
        "id": "QLIbVdbERl5a"
      },
      "source": [
        "# plindrome \n"
      ]
    },
    {
      "cell_type": "code",
      "metadata": {
        "id": "S7GxgDP4Rvel",
        "colab": {
          "base_uri": "https://localhost:8080/"
        },
        "outputId": "e1a8e967-5f4a-459d-b5b3-99a294aaadfb"
      },
      "source": [
        "def palindrome():\n",
        "\n",
        "  numbers=[]\n",
        "   \n",
        "  for number in range(100,1000):\n",
        "    if str(number) == str(number)[::-1]:\n",
        "      numbers.append(number)\n",
        "  return len(numbers)    \n",
        "\n",
        "\n",
        "\n",
        "     \n",
        "print(palindrome())  "
      ],
      "execution_count": 3,
      "outputs": [
        {
          "output_type": "stream",
          "name": "stdout",
          "text": [
            "90\n"
          ]
        }
      ]
    },
    {
      "cell_type": "code",
      "metadata": {
        "id": "WS5pxYoe9BRk",
        "outputId": "eba7963d-2a90-4925-9346-f274bbb90eb5",
        "colab": {
          "base_uri": "https://localhost:8080/"
        }
      },
      "source": [
        "def ispalindrome(number):\n",
        "  if str(number) != str(number)[::-1]:\n",
        "\n",
        "\n",
        "    return False \n",
        "  bin_number = bin(number)[2:]\n",
        "  return bin_number == bin_number[::-1] \n",
        "\n",
        "\n",
        "def calculate():\n",
        "    return list(filter(ispalindrome, [i for i in range(10, 1000)]))  \n",
        "\n",
        "\n",
        "print(calculate())\n",
        "                    \n"
      ],
      "execution_count": 6,
      "outputs": [
        {
          "output_type": "stream",
          "name": "stdout",
          "text": [
            "[33, 99, 313, 585, 717]\n"
          ]
        }
      ]
    },
    {
      "cell_type": "markdown",
      "metadata": {
        "id": "hANwqfUpSQgY"
      },
      "source": [
        "# gcd  of two integers \n"
      ]
    },
    {
      "cell_type": "code",
      "metadata": {
        "id": "jUXzoIaMSWnX",
        "colab": {
          "base_uri": "https://localhost:8080/"
        },
        "outputId": "7f761fd2-dc7a-4476-bc26-e43895c9c5e3"
      },
      "source": [
        "def greatest_common_divisor(x,y):\n",
        "    while x!=y:\n",
        "        if x > y :\n",
        "            x = x-y \n",
        "        else:\n",
        "            y = y - x \n",
        "    return x       \n",
        "print(greatest_common_divisor(32,48))    \n",
        "        "
      ],
      "execution_count": null,
      "outputs": [
        {
          "output_type": "stream",
          "name": "stdout",
          "text": [
            "16\n"
          ]
        }
      ]
    },
    {
      "cell_type": "markdown",
      "metadata": {
        "id": "PRmCeER_ONM4"
      },
      "source": [
        "# prime factorization\n"
      ]
    },
    {
      "cell_type": "code",
      "metadata": {
        "id": "5yTJ3KlROaNs",
        "colab": {
          "base_uri": "https://localhost:8080/"
        },
        "outputId": "a59c0a94-8064-4496-e812-be3056793d77"
      },
      "source": [
        "def calculate(number):\n",
        "  i= 2\n",
        "    \n",
        "  factor = []\n",
        "  while i *i <= number :\n",
        "    if not number % 2 == 0 :\n",
        "      i += 1 \n",
        "    else :\n",
        "      number = number // i\n",
        "      factor.append(i)\n",
        "  if number > 1  :\n",
        "      factor.append(number)   \n",
        "  return (factor) \n",
        "\n",
        "print(calculate(48))\n",
        "\n",
        "\n"
      ],
      "execution_count": null,
      "outputs": [
        {
          "output_type": "stream",
          "name": "stdout",
          "text": [
            "[2, 2, 2, 2, 3]\n"
          ]
        }
      ]
    },
    {
      "cell_type": "markdown",
      "metadata": {
        "id": "8I6jY6p87knp"
      },
      "source": [
        "# New Solution\n"
      ]
    },
    {
      "cell_type": "code",
      "metadata": {
        "id": "L7pW9pc-BSMm",
        "colab": {
          "base_uri": "https://localhost:8080/",
          "height": 35
        },
        "outputId": "e4040f3b-89c8-4f7c-b763-6f27467367a9"
      },
      "source": [
        "import numpy as np\n",
        "\n",
        "np.__version__\n"
      ],
      "execution_count": null,
      "outputs": [
        {
          "output_type": "execute_result",
          "data": {
            "application/vnd.google.colaboratory.intrinsic+json": {
              "type": "string"
            },
            "text/plain": [
              "'1.19.5'"
            ]
          },
          "metadata": {},
          "execution_count": 3
        }
      ]
    },
    {
      "cell_type": "markdown",
      "metadata": {
        "id": "hW8K9EiSBLj0"
      },
      "source": [
        "# New summary\n"
      ]
    },
    {
      "cell_type": "code",
      "metadata": {
        "id": "cT9p9uFi75iS",
        "colab": {
          "base_uri": "https://localhost:8080/"
        },
        "outputId": "9f339fc2-17b8-480a-b401-dc85747dbaed"
      },
      "source": [
        "def calculate():\n",
        "    numbers = []\n",
        "    for i in range(100):\n",
        "        if i % 5 == 0 or i % 7 == 0:\n",
        "            numbers.append(i)\n",
        "    total = sum(numbers)\n",
        "    return total\n",
        " \n",
        " \n",
        "print(calculate())\n",
        "\n"
      ],
      "execution_count": null,
      "outputs": [
        {
          "output_type": "stream",
          "name": "stdout",
          "text": [
            "1580\n"
          ]
        }
      ]
    },
    {
      "cell_type": "markdown",
      "metadata": {
        "id": "WNHx7EWz7sut"
      },
      "source": [
        ""
      ]
    },
    {
      "cell_type": "markdown",
      "metadata": {
        "id": "q4yFMXNeF_9q"
      },
      "source": [
        "fibbonachi problem \n"
      ]
    },
    {
      "cell_type": "code",
      "metadata": {
        "id": "3maKRVabGFA2",
        "colab": {
          "base_uri": "https://localhost:8080/"
        },
        "outputId": "f7305cbf-de3f-401b-be09-9c0f102d4df1"
      },
      "source": [
        "def calculate():\n",
        "  total =0 \n",
        "  a=0\n",
        "  b =1\n",
        "  while a < 1000000:\n",
        "    if a % 2 == 0 :\n",
        "      total += a \n",
        "    a,b = b,a+b \n",
        "     \n",
        "     \n",
        "  return total \n",
        "\n",
        "print(calculate())    \n"
      ],
      "execution_count": null,
      "outputs": [
        {
          "output_type": "stream",
          "name": "stdout",
          "text": [
            "1089154\n"
          ]
        }
      ]
    },
    {
      "cell_type": "code",
      "metadata": {
        "id": "_CmpzvHMG0Q_"
      },
      "source": [
        ""
      ],
      "execution_count": null,
      "outputs": []
    }
  ]
}